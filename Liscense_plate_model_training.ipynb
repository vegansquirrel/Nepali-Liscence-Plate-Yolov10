{
 "cells": [
  {
   "cell_type": "code",
   "execution_count": 1,
   "metadata": {},
   "outputs": [
    {
     "ename": "ModuleNotFoundError",
     "evalue": "No module named 'sklearn'",
     "output_type": "error",
     "traceback": [
      "\u001b[1;31m---------------------------------------------------------------------------\u001b[0m",
      "\u001b[1;31mModuleNotFoundError\u001b[0m                       Traceback (most recent call last)",
      "Cell \u001b[1;32mIn[1], line 3\u001b[0m\n\u001b[0;32m      1\u001b[0m \u001b[38;5;28;01mimport\u001b[39;00m \u001b[38;5;21;01mos\u001b[39;00m\n\u001b[0;32m      2\u001b[0m \u001b[38;5;28;01mimport\u001b[39;00m \u001b[38;5;21;01mshutil\u001b[39;00m\n\u001b[1;32m----> 3\u001b[0m \u001b[38;5;28;01mfrom\u001b[39;00m \u001b[38;5;21;01msklearn\u001b[39;00m\u001b[38;5;21;01m.\u001b[39;00m\u001b[38;5;21;01mmodel_selection\u001b[39;00m \u001b[38;5;28;01mimport\u001b[39;00m train_test_split\n\u001b[0;32m      4\u001b[0m \u001b[38;5;28;01mimport\u001b[39;00m \u001b[38;5;21;01myaml\u001b[39;00m\n\u001b[0;32m      6\u001b[0m \u001b[38;5;66;03m# Define the paths\u001b[39;00m\n",
      "\u001b[1;31mModuleNotFoundError\u001b[0m: No module named 'sklearn'"
     ]
    }
   ],
   "source": [
    "import os\n",
    "import shutil\n",
    "from sklearn.model_selection import train_test_split\n",
    "import yaml\n",
    "\n",
    "# Define the paths\n",
    "images_path = '/content/drive/MyDrive/license plate data/vehicle_number_plate_detection/images'\n",
    "masks_path = '/content/drive/MyDrive/license plate data/vehicle_number_plate_detection/labels'\n",
    "dataset_path = '/content/drive/MyDrive/dataset_unet' # Root directory for the dataset\n",
    "train_images_path = os.path.join(dataset_path, 'train', 'images')\n",
    "train_masks_path = os.path.join(dataset_path, 'train', 'masks')\n",
    "val_images_path = os.path.join(dataset_path, 'validation', 'images')\n",
    "val_masks_path = os.path.join(dataset_path, 'validation', 'masks')\n",
    "test_images_path = os.path.join(dataset_path, 'test', 'images')\n",
    "test_masks_path = os.path.join(dataset_path, 'test', 'masks')\n",
    "\n",
    "# Create directories for train, validation and test sets\n",
    "os.makedirs(train_images_path, exist_ok=True)\n",
    "os.makedirs(train_masks_path, exist_ok=True)\n",
    "os.makedirs(val_images_path, exist_ok=True)\n",
    "os.makedirs(val_masks_path, exist_ok=True)\n",
    "os.makedirs(test_images_path, exist_ok=True)\n",
    "os.makedirs(test_masks_path, exist_ok=True)\n",
    "\n",
    "# Get a list of all images and masks\n",
    "images = sorted(os.listdir(images_path))\n",
    "masks = sorted(os.listdir(masks_path))\n",
    "\n",
    "\n",
    "half_images, _, half_masks, _ = train_test_split(images, masks, test_size=0.5, random_state=42)\n",
    "\n",
    "# Now split the half data into train (40%), validation (40%), and test (20%)\n",
    "\n",
    "# Split into train+val and test (20% test set)\n",
    "train_val_images, test_images, train_val_masks, test_masks = train_test_split(half_images, half_masks, test_size=0.2, random_state=42)\n",
    "\n",
    "# Split train+val into train and validation (50% of remaining data for validation, which is 40% of the total)\n",
    "train_images, val_images, train_masks, val_masks = train_test_split(train_val_images, train_val_masks, test_size=0.5, random_state=42)\n",
    "# Function to copy files to their respective directories\n",
    "def copy_files(file_list, source_dir, dest_dir):\n",
    "    for file_name in file_list:\n",
    "      shutil.copy(os.path.join(source_dir, file_name), dest_dir)\n",
    "\n",
    "# Copy the files to the train, validation, and test directories\n",
    "copy_files(train_images, images_path, train_images_path)\n",
    "copy_files(train_masks, masks_path, train_masks_path)\n",
    "copy_files(val_images, images_path, val_images_path)\n",
    "copy_files(val_masks, masks_path, val_masks_path)\n",
    "copy_files(test_images, images_path, test_images_path)\n",
    "copy_files(test_masks, masks_path, test_masks_path)\n",
    "\n",
    "print(\"Dataset has been split and copied successfully.\")\n"
   ]
  },
  {
   "cell_type": "code",
   "execution_count": null,
   "metadata": {},
   "outputs": [
    {
     "ename": "",
     "evalue": "",
     "output_type": "error",
     "traceback": [
      "\u001b[1;31mThe kernel failed to start due to the missing module 'pygments'. Consider installing this module.\n",
      "\u001b[1;31mClick <a href='https://aka.ms/kernelFailuresMissingModule'>here</a> for more info."
     ]
    }
   ],
   "source": [
    "!pip install "
   ]
  },
  {
   "cell_type": "code",
   "execution_count": null,
   "metadata": {},
   "outputs": [],
   "source": []
  }
 ],
 "metadata": {
  "kernelspec": {
   "display_name": "yolo10",
   "language": "python",
   "name": "python3"
  },
  "language_info": {
   "codemirror_mode": {
    "name": "ipython",
    "version": 3
   },
   "file_extension": ".py",
   "mimetype": "text/x-python",
   "name": "python",
   "nbconvert_exporter": "python",
   "pygments_lexer": "ipython3",
   "version": "3.11.4"
  }
 },
 "nbformat": 4,
 "nbformat_minor": 2
}
